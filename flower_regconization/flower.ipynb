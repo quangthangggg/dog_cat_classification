{
  "nbformat": 4,
  "nbformat_minor": 0,
  "metadata": {
    "colab": {
      "provenance": [],
      "mount_file_id": "1pQWPw4jT4gdMkCY4VwPikc84AIcf4wB0",
      "authorship_tag": "ABX9TyN77eizzhd955/WjE0LzhxG",
      "include_colab_link": true
    },
    "kernelspec": {
      "name": "python3",
      "display_name": "Python 3"
    },
    "language_info": {
      "name": "python"
    },
    "accelerator": "GPU",
    "gpuClass": "standard"
  },
  "cells": [
    {
      "cell_type": "markdown",
      "metadata": {
        "id": "view-in-github",
        "colab_type": "text"
      },
      "source": [
        "<a href=\"https://colab.research.google.com/github/quangthangggg/projects_ML/blob/main/flower_regconization/flower.ipynb\" target=\"_parent\"><img src=\"https://colab.research.google.com/assets/colab-badge.svg\" alt=\"Open In Colab\"/></a>"
      ]
    },
    {
      "cell_type": "code",
      "execution_count": 12,
      "metadata": {
        "id": "PERibrfc5vQC",
        "colab": {
          "base_uri": "https://localhost:8080/"
        },
        "outputId": "7dfe51eb-d05a-42d7-9f53-822cf3a59d96"
      },
      "outputs": [
        {
          "output_type": "stream",
          "name": "stdout",
          "text": [
            "/content/drive/MyDrive/Colab Notebooks/ML/Flower reg\n"
          ]
        }
      ],
      "source": [
        "%cd /content/drive/MyDrive/Colab Notebooks/ML/Flower reg"
      ]
    },
    {
      "cell_type": "code",
      "source": [
        "import os"
      ],
      "metadata": {
        "id": "zKVYQ7My6oo6"
      },
      "execution_count": 1,
      "outputs": []
    },
    {
      "cell_type": "code",
      "source": [
        "! pip install kaggle"
      ],
      "metadata": {
        "colab": {
          "base_uri": "https://localhost:8080/"
        },
        "id": "agUcDTmr6p7s",
        "outputId": "91a2a3c6-dcd7-412d-c048-4c17d4cb5cdd"
      },
      "execution_count": 6,
      "outputs": [
        {
          "output_type": "stream",
          "name": "stdout",
          "text": [
            "Looking in indexes: https://pypi.org/simple, https://us-python.pkg.dev/colab-wheels/public/simple/\n",
            "Requirement already satisfied: kaggle in /usr/local/lib/python3.7/dist-packages (1.5.12)\n",
            "Requirement already satisfied: tqdm in /usr/local/lib/python3.7/dist-packages (from kaggle) (4.64.1)\n",
            "Requirement already satisfied: requests in /usr/local/lib/python3.7/dist-packages (from kaggle) (2.23.0)\n",
            "Requirement already satisfied: certifi in /usr/local/lib/python3.7/dist-packages (from kaggle) (2022.9.24)\n",
            "Requirement already satisfied: python-dateutil in /usr/local/lib/python3.7/dist-packages (from kaggle) (2.8.2)\n",
            "Requirement already satisfied: python-slugify in /usr/local/lib/python3.7/dist-packages (from kaggle) (6.1.2)\n",
            "Requirement already satisfied: urllib3 in /usr/local/lib/python3.7/dist-packages (from kaggle) (1.24.3)\n",
            "Requirement already satisfied: six>=1.10 in /usr/local/lib/python3.7/dist-packages (from kaggle) (1.15.0)\n",
            "Requirement already satisfied: text-unidecode>=1.3 in /usr/local/lib/python3.7/dist-packages (from python-slugify->kaggle) (1.3)\n",
            "Requirement already satisfied: chardet<4,>=3.0.2 in /usr/local/lib/python3.7/dist-packages (from requests->kaggle) (3.0.4)\n",
            "Requirement already satisfied: idna<3,>=2.5 in /usr/local/lib/python3.7/dist-packages (from requests->kaggle) (2.10)\n"
          ]
        }
      ]
    },
    {
      "cell_type": "code",
      "source": [
        "! mkdir ~/.kaggle"
      ],
      "metadata": {
        "id": "E8e7rNN97WHc"
      },
      "execution_count": 7,
      "outputs": []
    },
    {
      "cell_type": "code",
      "source": [
        "! cp kaggle.json ~/.kaggle/"
      ],
      "metadata": {
        "id": "wiyDkZud8OAR"
      },
      "execution_count": 9,
      "outputs": []
    },
    {
      "cell_type": "code",
      "source": [
        "! chmod 600 ~/.kaggle/kaggle.json"
      ],
      "metadata": {
        "id": "sNKn4Cq98Qa-"
      },
      "execution_count": 10,
      "outputs": []
    },
    {
      "cell_type": "code",
      "source": [
        "! kaggle competitions download https://www.kaggle.com/datasets/alxmamaev/flowers-recognition"
      ],
      "metadata": {
        "colab": {
          "base_uri": "https://localhost:8080/"
        },
        "id": "DT678uGs8jzb",
        "outputId": "7be112d4-369a-45a5-d444-b19d7018284b"
      },
      "execution_count": 11,
      "outputs": [
        {
          "output_type": "stream",
          "name": "stdout",
          "text": [
            "403 - Forbidden\n"
          ]
        }
      ]
    },
    {
      "cell_type": "code",
      "source": [
        "! kaggle datasets download https://www.kaggle.com/datasets/alxmamaev/flowers-recognition"
      ],
      "metadata": {
        "colab": {
          "base_uri": "https://localhost:8080/"
        },
        "id": "hfUGdM098ov3",
        "outputId": "7fd78e7c-c53e-4ae3-a841-9dfd37eb8f27"
      },
      "execution_count": 13,
      "outputs": [
        {
          "output_type": "stream",
          "name": "stdout",
          "text": [
            "Invalid dataset specification https://www.kaggle.com/datasets/alxmamaev/flowers-recognition\n"
          ]
        }
      ]
    },
    {
      "cell_type": "code",
      "source": [
        "! kaggle datasets download -d alxmamaev/flowers-recognition"
      ],
      "metadata": {
        "colab": {
          "base_uri": "https://localhost:8080/"
        },
        "id": "9KOCx_y580iy",
        "outputId": "4aef39ee-c0bc-491c-fb37-15fee30a963e"
      },
      "execution_count": 14,
      "outputs": [
        {
          "output_type": "stream",
          "name": "stdout",
          "text": [
            "Downloading flowers-recognition.zip to /content/drive/MyDrive/Colab Notebooks/ML/Flower reg\n",
            " 95% 214M/225M [00:00<00:00, 256MB/s]\n",
            "100% 225M/225M [00:01<00:00, 232MB/s]\n"
          ]
        }
      ]
    },
    {
      "cell_type": "code",
      "source": [
        "cd /content/drive/MyDrive/Colab Notebooks/ML/Flower reg/flowers"
      ],
      "metadata": {
        "colab": {
          "base_uri": "https://localhost:8080/"
        },
        "id": "ZjrORW869MVt",
        "outputId": "eb049902-d5ca-4477-ee2e-2e641248f197"
      },
      "execution_count": 1,
      "outputs": [
        {
          "output_type": "stream",
          "name": "stdout",
          "text": [
            "/content/drive/MyDrive/Colab Notebooks/ML/Flower reg/flowers\n"
          ]
        }
      ]
    },
    {
      "cell_type": "code",
      "source": [
        "import numpy as np\n",
        "import pandas as pd\n",
        "import matplotlib.pyplot as plt\n",
        "%matplotlib inline\n",
        "from tensorflow.keras.models import Sequential\n",
        "from tensorflow.keras.layers import Dense, Activation, Dropout, Flatten, MaxPooling2D, Conv2D\n",
        "from sklearn.model_selection import train_test_split"
      ],
      "metadata": {
        "id": "zOVl-K1nFHNs"
      },
      "execution_count": 10,
      "outputs": []
    },
    {
      "cell_type": "code",
      "source": [
        "import cv2\n",
        "import os\n",
        "from tensorflow.keras.preprocessing.image import ImageDataGenerator"
      ],
      "metadata": {
        "id": "b6Q9Q0PVUSAk"
      },
      "execution_count": 11,
      "outputs": []
    },
    {
      "cell_type": "code",
      "source": [
        "import random\n",
        "import glob\n",
        "import shutil"
      ],
      "metadata": {
        "id": "MARPEGL3XV4z"
      },
      "execution_count": 12,
      "outputs": []
    },
    {
      "cell_type": "code",
      "source": [
        "TRAIN_DATA_PATH = '/content/drive/MyDrive/Colab Notebooks/ML/Flower reg/'\n",
        "SUB_DIRS = ['train/','test/']\n",
        "CLASS_DIRS = ['daisy/','dandelion/','rose/','sunflower/','tulip/'] "
      ],
      "metadata": {
        "id": "GXedAVP3UcI7"
      },
      "execution_count": 26,
      "outputs": []
    },
    {
      "cell_type": "code",
      "source": [
        "for sub in SUB_DIRS:\n",
        "  for class_dir in CLASS_DIRS:\n",
        "    os.makedirs(TRAIN_DATA_PATH + sub + class_dir,exist_ok=True)"
      ],
      "metadata": {
        "id": "bg5z2TPUV01a"
      },
      "execution_count": 11,
      "outputs": []
    },
    {
      "cell_type": "code",
      "source": [
        "daisy = glob.glob(TRAIN_DATA_PATH + 'flowers/daisy/*')\n",
        "dandelion = glob.glob(TRAIN_DATA_PATH + 'flowers/dandelion/*')\n",
        "rose = glob.glob(TRAIN_DATA_PATH + 'flowers/rose/*')\n",
        "sunflower = glob.glob(TRAIN_DATA_PATH + 'flowers/sunflower/*')\n",
        "tulip = glob.glob(TRAIN_DATA_PATH + 'flowers/tulip/*')"
      ],
      "metadata": {
        "id": "yikOS6XDWQIo"
      },
      "execution_count": 13,
      "outputs": []
    },
    {
      "cell_type": "code",
      "source": [
        "kind =[daisy,dandelion,rose,sunflower,tulip]\n",
        "for index,flower_kind in enumerate(kind):\n",
        "  random.shuffle(flower_kind)\n",
        "  train=flower_kind[:int(len(flower_kind)*0.7)]\n",
        "  test=flower_kind[int(len(flower_kind)*0.7):]\n",
        "  for path in train: shutil.move(path,TRAIN_DATA_PATH + SUB_DIRS[0]+ CLASS_DIRS[index])\n",
        "  for path in test: shutil.move(path,TRAIN_DATA_PATH + SUB_DIRS[1]+ CLASS_DIRS[index])"
      ],
      "metadata": {
        "colab": {
          "base_uri": "https://localhost:8080/",
          "height": 339
        },
        "id": "7gOUwYi_Zfzn",
        "outputId": "1181f43a-bca8-4777-e477-bbefd40fab62"
      },
      "execution_count": 27,
      "outputs": [
        {
          "output_type": "error",
          "ename": "Error",
          "evalue": "ignored",
          "traceback": [
            "\u001b[0;31m---------------------------------------------------------------------------\u001b[0m",
            "\u001b[0;31mError\u001b[0m                                     Traceback (most recent call last)",
            "\u001b[0;32m<ipython-input-27-127d1676a8b7>\u001b[0m in \u001b[0;36m<module>\u001b[0;34m\u001b[0m\n\u001b[1;32m      4\u001b[0m   \u001b[0mtrain\u001b[0m\u001b[0;34m=\u001b[0m\u001b[0mflower_kind\u001b[0m\u001b[0;34m[\u001b[0m\u001b[0;34m:\u001b[0m\u001b[0mint\u001b[0m\u001b[0;34m(\u001b[0m\u001b[0mlen\u001b[0m\u001b[0;34m(\u001b[0m\u001b[0mflower_kind\u001b[0m\u001b[0;34m)\u001b[0m\u001b[0;34m*\u001b[0m\u001b[0;36m0.7\u001b[0m\u001b[0;34m)\u001b[0m\u001b[0;34m]\u001b[0m\u001b[0;34m\u001b[0m\u001b[0;34m\u001b[0m\u001b[0m\n\u001b[1;32m      5\u001b[0m   \u001b[0mtest\u001b[0m\u001b[0;34m=\u001b[0m\u001b[0mflower_kind\u001b[0m\u001b[0;34m[\u001b[0m\u001b[0mint\u001b[0m\u001b[0;34m(\u001b[0m\u001b[0mlen\u001b[0m\u001b[0;34m(\u001b[0m\u001b[0mflower_kind\u001b[0m\u001b[0;34m)\u001b[0m\u001b[0;34m*\u001b[0m\u001b[0;36m0.7\u001b[0m\u001b[0;34m)\u001b[0m\u001b[0;34m:\u001b[0m\u001b[0;34m]\u001b[0m\u001b[0;34m\u001b[0m\u001b[0;34m\u001b[0m\u001b[0m\n\u001b[0;32m----> 6\u001b[0;31m   \u001b[0;32mfor\u001b[0m \u001b[0mpath\u001b[0m \u001b[0;32min\u001b[0m \u001b[0mtrain\u001b[0m\u001b[0;34m:\u001b[0m \u001b[0mshutil\u001b[0m\u001b[0;34m.\u001b[0m\u001b[0mmove\u001b[0m\u001b[0;34m(\u001b[0m\u001b[0mpath\u001b[0m\u001b[0;34m,\u001b[0m\u001b[0mTRAIN_DATA_PATH\u001b[0m \u001b[0;34m+\u001b[0m \u001b[0mSUB_DIRS\u001b[0m\u001b[0;34m[\u001b[0m\u001b[0;36m0\u001b[0m\u001b[0;34m]\u001b[0m\u001b[0;34m+\u001b[0m \u001b[0mCLASS_DIRS\u001b[0m\u001b[0;34m[\u001b[0m\u001b[0mindex\u001b[0m\u001b[0;34m]\u001b[0m\u001b[0;34m)\u001b[0m\u001b[0;34m\u001b[0m\u001b[0;34m\u001b[0m\u001b[0m\n\u001b[0m\u001b[1;32m      7\u001b[0m   \u001b[0;32mfor\u001b[0m \u001b[0mpath\u001b[0m \u001b[0;32min\u001b[0m \u001b[0mtest\u001b[0m\u001b[0;34m:\u001b[0m \u001b[0mshutil\u001b[0m\u001b[0;34m.\u001b[0m\u001b[0mmove\u001b[0m\u001b[0;34m(\u001b[0m\u001b[0mpath\u001b[0m\u001b[0;34m,\u001b[0m\u001b[0mTRAIN_DATA_PATH\u001b[0m \u001b[0;34m+\u001b[0m \u001b[0mSUB_DIRS\u001b[0m\u001b[0;34m[\u001b[0m\u001b[0;36m1\u001b[0m\u001b[0;34m]\u001b[0m\u001b[0;34m+\u001b[0m \u001b[0mCLASS_DIRS\u001b[0m\u001b[0;34m[\u001b[0m\u001b[0mindex\u001b[0m\u001b[0;34m]\u001b[0m\u001b[0;34m)\u001b[0m\u001b[0;34m\u001b[0m\u001b[0;34m\u001b[0m\u001b[0m\n",
            "\u001b[0;32m/usr/lib/python3.7/shutil.py\u001b[0m in \u001b[0;36mmove\u001b[0;34m(src, dst, copy_function)\u001b[0m\n\u001b[1;32m    562\u001b[0m         \u001b[0mreal_dst\u001b[0m \u001b[0;34m=\u001b[0m \u001b[0mos\u001b[0m\u001b[0;34m.\u001b[0m\u001b[0mpath\u001b[0m\u001b[0;34m.\u001b[0m\u001b[0mjoin\u001b[0m\u001b[0;34m(\u001b[0m\u001b[0mdst\u001b[0m\u001b[0;34m,\u001b[0m \u001b[0m_basename\u001b[0m\u001b[0;34m(\u001b[0m\u001b[0msrc\u001b[0m\u001b[0;34m)\u001b[0m\u001b[0;34m)\u001b[0m\u001b[0;34m\u001b[0m\u001b[0;34m\u001b[0m\u001b[0m\n\u001b[1;32m    563\u001b[0m         \u001b[0;32mif\u001b[0m \u001b[0mos\u001b[0m\u001b[0;34m.\u001b[0m\u001b[0mpath\u001b[0m\u001b[0;34m.\u001b[0m\u001b[0mexists\u001b[0m\u001b[0;34m(\u001b[0m\u001b[0mreal_dst\u001b[0m\u001b[0;34m)\u001b[0m\u001b[0;34m:\u001b[0m\u001b[0;34m\u001b[0m\u001b[0;34m\u001b[0m\u001b[0m\n\u001b[0;32m--> 564\u001b[0;31m             \u001b[0;32mraise\u001b[0m \u001b[0mError\u001b[0m\u001b[0;34m(\u001b[0m\u001b[0;34m\"Destination path '%s' already exists\"\u001b[0m \u001b[0;34m%\u001b[0m \u001b[0mreal_dst\u001b[0m\u001b[0;34m)\u001b[0m\u001b[0;34m\u001b[0m\u001b[0;34m\u001b[0m\u001b[0m\n\u001b[0m\u001b[1;32m    565\u001b[0m     \u001b[0;32mtry\u001b[0m\u001b[0;34m:\u001b[0m\u001b[0;34m\u001b[0m\u001b[0;34m\u001b[0m\u001b[0m\n\u001b[1;32m    566\u001b[0m         \u001b[0mos\u001b[0m\u001b[0;34m.\u001b[0m\u001b[0mrename\u001b[0m\u001b[0;34m(\u001b[0m\u001b[0msrc\u001b[0m\u001b[0;34m,\u001b[0m \u001b[0mreal_dst\u001b[0m\u001b[0;34m)\u001b[0m\u001b[0;34m\u001b[0m\u001b[0;34m\u001b[0m\u001b[0m\n",
            "\u001b[0;31mError\u001b[0m: Destination path '/content/drive/MyDrive/Colab Notebooks/ML/Flower reg/train/daisy/4511693548_20f9bd2b9c_m.jpg' already exists"
          ]
        }
      ]
    },
    {
      "cell_type": "code",
      "source": [
        "# create data generators\n",
        "train_datagen = ImageDataGenerator(rescale=1.0/255.0, width_shift_range=0.1, height_shift_range=0.1, horizontal_flip=True)\n",
        "test_datagen = ImageDataGenerator(rescale=1.0/255.0)\n",
        "\n",
        "# prepare iterators\n",
        "train_it = train_datagen.flow_from_directory('/content/drive/MyDrive/Colab Notebooks/ML/Flower reg/train/', \n",
        "                                             class_mode='categorical', batch_size=64, target_size=(320, 240))\n",
        "test_it = test_datagen.flow_from_directory('/content/drive/MyDrive/Colab Notebooks/ML/Flower reg/test/', \n",
        "                                           class_mode='categorical', batch_size=64, target_size=(320, 240))\n"
      ],
      "metadata": {
        "colab": {
          "base_uri": "https://localhost:8080/"
        },
        "id": "5JXttVUvXk6T",
        "outputId": "7314c375-040c-499b-827b-b32e2c0cb851"
      },
      "execution_count": 13,
      "outputs": [
        {
          "output_type": "stream",
          "name": "stdout",
          "text": [
            "Found 3019 images belonging to 5 classes.\n",
            "Found 1298 images belonging to 5 classes.\n"
          ]
        }
      ]
    },
    {
      "cell_type": "code",
      "source": [
        "model = Sequential()\n",
        "\n",
        "model.add(Conv2D(32, (3,3), activation='relu', kernel_initializer='he_uniform', padding='same', input_shape=(320,240,3)))\n",
        "model.add(MaxPooling2D(2,2))\n",
        "model.add(Dropout(0.1))\n",
        "\n",
        "model.add(Conv2D(64, (3,3), activation='relu', kernel_initializer='he_uniform', padding='same'))\n",
        "model.add(MaxPooling2D(2,2))\n",
        "model.add(Dropout(0.2))\n",
        "\n",
        "model.add(Conv2D(128, (3,3), activation='relu', kernel_initializer='he_uniform', padding='same'))\n",
        "model.add(MaxPooling2D(2,2))\n",
        "model.add(Dropout(0.3))\n",
        "\n",
        "model.add(Flatten())\n",
        "\n",
        "model.add(Dense(128,activation='relu',kernel_initializer='he_uniform'))\n",
        "model.add(Dropout(0.3))\n",
        "\n",
        "model.add(Dense(5,activation='softmax'))\n",
        "\n",
        "model.compile(optimizer='adam', loss='categorical_crossentropy', metrics=['accuracy'])\n"
      ],
      "metadata": {
        "id": "V1FL9y2Ff9Qe"
      },
      "execution_count": 34,
      "outputs": []
    },
    {
      "cell_type": "code",
      "source": [
        "from tensorflow.keras.callbacks import EarlyStopping\n",
        "earlystop = EarlyStopping(monitor='val_loss',mode=min,patience=3)"
      ],
      "metadata": {
        "colab": {
          "base_uri": "https://localhost:8080/"
        },
        "id": "IT5uM81Ahlgh",
        "outputId": "fd9acd4f-4065-4d60-e3f9-cbbf2026c411"
      },
      "execution_count": 35,
      "outputs": [
        {
          "output_type": "stream",
          "name": "stderr",
          "text": [
            "WARNING:tensorflow:EarlyStopping mode <built-in function min> is unknown, fallback to auto mode.\n"
          ]
        }
      ]
    },
    {
      "cell_type": "code",
      "source": [
        "model.fit(train_it,steps_per_epoch=len(train_it),\n",
        "          validation_data=test_it,\n",
        "          validation_steps=len(test_it), \n",
        "          callbacks=[earlystop],\n",
        "          epochs=50, verbose=1)"
      ],
      "metadata": {
        "colab": {
          "base_uri": "https://localhost:8080/"
        },
        "id": "GEfJ6KCmhV0M",
        "outputId": "989b3de4-b22c-4f26-ba2f-e02c1546f372"
      },
      "execution_count": 36,
      "outputs": [
        {
          "output_type": "stream",
          "name": "stdout",
          "text": [
            "Epoch 1/50\n",
            "48/48 [==============================] - 64s 1s/step - loss: 13.7991 - accuracy: 0.2325 - val_loss: 1.5427 - val_accuracy: 0.3120\n",
            "Epoch 2/50\n",
            "48/48 [==============================] - 63s 1s/step - loss: 1.4159 - accuracy: 0.3796 - val_loss: 1.3823 - val_accuracy: 0.4114\n",
            "Epoch 3/50\n",
            "48/48 [==============================] - 63s 1s/step - loss: 1.3464 - accuracy: 0.4220 - val_loss: 1.2614 - val_accuracy: 0.5023\n",
            "Epoch 4/50\n",
            "48/48 [==============================] - 63s 1s/step - loss: 1.2843 - accuracy: 0.4657 - val_loss: 1.2474 - val_accuracy: 0.4576\n",
            "Epoch 5/50\n",
            "48/48 [==============================] - 63s 1s/step - loss: 1.1997 - accuracy: 0.5008 - val_loss: 1.1777 - val_accuracy: 0.5447\n",
            "Epoch 6/50\n",
            "48/48 [==============================] - 62s 1s/step - loss: 1.1671 - accuracy: 0.5296 - val_loss: 1.1823 - val_accuracy: 0.5670\n",
            "Epoch 7/50\n",
            "48/48 [==============================] - 62s 1s/step - loss: 1.1615 - accuracy: 0.5270 - val_loss: 1.1549 - val_accuracy: 0.5639\n",
            "Epoch 8/50\n",
            "48/48 [==============================] - 63s 1s/step - loss: 1.1386 - accuracy: 0.5508 - val_loss: 1.1126 - val_accuracy: 0.5940\n",
            "Epoch 9/50\n",
            "48/48 [==============================] - 62s 1s/step - loss: 1.0646 - accuracy: 0.5757 - val_loss: 1.2011 - val_accuracy: 0.5378\n",
            "Epoch 10/50\n",
            "48/48 [==============================] - 62s 1s/step - loss: 1.0798 - accuracy: 0.5830 - val_loss: 1.1359 - val_accuracy: 0.5747\n",
            "Epoch 11/50\n",
            "48/48 [==============================] - 62s 1s/step - loss: 1.0347 - accuracy: 0.5879 - val_loss: 1.0358 - val_accuracy: 0.6133\n",
            "Epoch 12/50\n",
            "48/48 [==============================] - 63s 1s/step - loss: 1.0157 - accuracy: 0.5942 - val_loss: 1.0483 - val_accuracy: 0.6133\n",
            "Epoch 13/50\n",
            "48/48 [==============================] - 62s 1s/step - loss: 1.0094 - accuracy: 0.6125 - val_loss: 0.9677 - val_accuracy: 0.6356\n",
            "Epoch 14/50\n",
            "48/48 [==============================] - 62s 1s/step - loss: 0.9903 - accuracy: 0.6161 - val_loss: 0.9997 - val_accuracy: 0.6510\n",
            "Epoch 15/50\n",
            "48/48 [==============================] - 63s 1s/step - loss: 0.9938 - accuracy: 0.6048 - val_loss: 0.9325 - val_accuracy: 0.6633\n",
            "Epoch 16/50\n",
            "48/48 [==============================] - 63s 1s/step - loss: 0.9419 - accuracy: 0.6290 - val_loss: 0.9233 - val_accuracy: 0.6556\n",
            "Epoch 17/50\n",
            "48/48 [==============================] - 61s 1s/step - loss: 0.9198 - accuracy: 0.6542 - val_loss: 0.9745 - val_accuracy: 0.6233\n",
            "Epoch 18/50\n",
            "48/48 [==============================] - 62s 1s/step - loss: 0.9168 - accuracy: 0.6419 - val_loss: 0.9055 - val_accuracy: 0.6641\n",
            "Epoch 19/50\n",
            "48/48 [==============================] - 62s 1s/step - loss: 0.9021 - accuracy: 0.6645 - val_loss: 0.8747 - val_accuracy: 0.6772\n",
            "Epoch 20/50\n",
            "48/48 [==============================] - 64s 1s/step - loss: 0.8613 - accuracy: 0.6684 - val_loss: 0.9044 - val_accuracy: 0.6595\n",
            "Epoch 21/50\n",
            "48/48 [==============================] - 62s 1s/step - loss: 0.8680 - accuracy: 0.6645 - val_loss: 0.8562 - val_accuracy: 0.6803\n",
            "Epoch 22/50\n",
            "48/48 [==============================] - 62s 1s/step - loss: 0.8474 - accuracy: 0.6724 - val_loss: 0.8566 - val_accuracy: 0.6795\n",
            "Epoch 23/50\n",
            "48/48 [==============================] - 62s 1s/step - loss: 0.8474 - accuracy: 0.6820 - val_loss: 0.8447 - val_accuracy: 0.6772\n",
            "Epoch 24/50\n",
            "48/48 [==============================] - 66s 1s/step - loss: 0.8400 - accuracy: 0.6837 - val_loss: 0.8628 - val_accuracy: 0.6795\n",
            "Epoch 25/50\n",
            "48/48 [==============================] - 62s 1s/step - loss: 0.8174 - accuracy: 0.6916 - val_loss: 0.8025 - val_accuracy: 0.6895\n",
            "Epoch 26/50\n",
            "48/48 [==============================] - 61s 1s/step - loss: 0.7863 - accuracy: 0.6976 - val_loss: 0.8282 - val_accuracy: 0.6703\n",
            "Epoch 27/50\n",
            "48/48 [==============================] - 62s 1s/step - loss: 0.7742 - accuracy: 0.7012 - val_loss: 0.8539 - val_accuracy: 0.6841\n",
            "Epoch 28/50\n",
            "48/48 [==============================] - 62s 1s/step - loss: 0.7662 - accuracy: 0.7075 - val_loss: 0.7940 - val_accuracy: 0.6957\n",
            "Epoch 29/50\n",
            "48/48 [==============================] - 63s 1s/step - loss: 0.7765 - accuracy: 0.6986 - val_loss: 0.8241 - val_accuracy: 0.7026\n",
            "Epoch 30/50\n",
            "48/48 [==============================] - 62s 1s/step - loss: 0.7623 - accuracy: 0.7052 - val_loss: 0.7732 - val_accuracy: 0.7103\n",
            "Epoch 31/50\n",
            "48/48 [==============================] - 62s 1s/step - loss: 0.7330 - accuracy: 0.7118 - val_loss: 0.7991 - val_accuracy: 0.6965\n",
            "Epoch 32/50\n",
            "48/48 [==============================] - 62s 1s/step - loss: 0.7270 - accuracy: 0.7304 - val_loss: 0.8118 - val_accuracy: 0.6934\n",
            "Epoch 33/50\n",
            "48/48 [==============================] - 63s 1s/step - loss: 0.7402 - accuracy: 0.7237 - val_loss: 0.7871 - val_accuracy: 0.6980\n"
          ]
        },
        {
          "output_type": "execute_result",
          "data": {
            "text/plain": [
              "<keras.callbacks.History at 0x7f70640d5a90>"
            ]
          },
          "metadata": {},
          "execution_count": 36
        }
      ]
    },
    {
      "cell_type": "code",
      "source": [
        "loss=pd.DataFrame(model.history.history)"
      ],
      "metadata": {
        "id": "fPUFLttPhicW"
      },
      "execution_count": 46,
      "outputs": []
    },
    {
      "cell_type": "code",
      "source": [
        "plt.figure(figsize=(15,8))\n",
        "plt.plot(loss[['val_loss','loss']])"
      ],
      "metadata": {
        "colab": {
          "base_uri": "https://localhost:8080/",
          "height": 518
        },
        "id": "3kfLmWQpuO8N",
        "outputId": "dc97d800-23a5-4417-b0e8-4e650dbd5d37"
      },
      "execution_count": 49,
      "outputs": [
        {
          "output_type": "execute_result",
          "data": {
            "text/plain": [
              "[<matplotlib.lines.Line2D at 0x7f6ff25014d0>,\n",
              " <matplotlib.lines.Line2D at 0x7f6ff2501790>]"
            ]
          },
          "metadata": {},
          "execution_count": 49
        },
        {
          "output_type": "display_data",
          "data": {
            "text/plain": [
              "<Figure size 1080x576 with 1 Axes>"
            ],
            "image/png": "[encoded data removed]"
          },
          "metadata": {
            "needs_background": "light"
          }
        }
      ]
    },
    {
      "cell_type": "code",
      "source": [
        "plt.figure(figsize=(15,8))\n",
        "plt.plot(loss[['accuracy','val_accuracy']])"
      ],
      "metadata": {
        "colab": {
          "base_uri": "https://localhost:8080/",
          "height": 518
        },
        "id": "3uL8D1zwu5iU",
        "outputId": "d4b03d93-d59e-4aae-89bf-50d5ce613e18"
      },
      "execution_count": 51,
      "outputs": [
        {
          "output_type": "execute_result",
          "data": {
            "text/plain": [
              "[<matplotlib.lines.Line2D at 0x7f6ff249ce10>,\n",
              " <matplotlib.lines.Line2D at 0x7f6ff24a8050>]"
            ]
          },
          "metadata": {},
          "execution_count": 51
        },
        {
          "output_type": "display_data",
          "data": {
            "text/plain": [
              "<Figure size 1080x576 with 1 Axes>"
            ],
            "image/png": "[encoded data removed]"
          },
          "metadata": {
            "needs_background": "light"
          }
        }
      ]
    },
    {
      "cell_type": "code",
      "source": [
        "from tensorflow.keras.models import load_model"
      ],
      "metadata": {
        "id": "shTIO2x6vmDw"
      },
      "execution_count": 52,
      "outputs": []
    },
    {
      "cell_type": "code",
      "source": [
        "model.save('/content/drive/MyDrive/Colab Notebooks/ML/Flower reg','flower.h5')"
      ],
      "metadata": {
        "colab": {
          "base_uri": "https://localhost:8080/"
        },
        "id": "xIeEbeI3vwhr",
        "outputId": "62e0759b-267d-400d-a4d5-196a7873d3bd"
      },
      "execution_count": 54,
      "outputs": [
        {
          "output_type": "stream",
          "name": "stderr",
          "text": [
            "WARNING:absl:Found untraced functions such as _jit_compiled_convolution_op, _jit_compiled_convolution_op, _jit_compiled_convolution_op while saving (showing 3 of 3). These functions will not be directly callable after loading.\n"
          ]
        }
      ]
    },
    {
      "cell_type": "code",
      "source": [
        "from tensorflow.keras.models import load_model\n",
        "model_last = load_model('flower.h5')"
      ],
      "metadata": {
        "id": "GYvkSMa5v9kT"
      },
      "execution_count": 4,
      "outputs": []
    },
    {
      "cell_type": "code",
      "source": [
        "%cd /content/drive/MyDrive/Colab Notebooks/ML/Flower reg/flowers"
      ],
      "metadata": {
        "colab": {
          "base_uri": "https://localhost:8080/"
        },
        "id": "bnrkFj_3nV-_",
        "outputId": "52fde540-7be4-4f38-8a3c-1d67adbfaa97"
      },
      "execution_count": 3,
      "outputs": [
        {
          "output_type": "stream",
          "name": "stdout",
          "text": [
            "/content/drive/MyDrive/Colab Notebooks/ML/Flower reg/flowers\n"
          ]
        }
      ]
    },
    {
      "cell_type": "code",
      "source": [
        "import tensorflow as tf"
      ],
      "metadata": {
        "id": "uN0xBD2qqc0z"
      },
      "execution_count": 5,
      "outputs": []
    },
    {
      "cell_type": "code",
      "source": [
        "def read_and_pre(path):\n",
        "  image = tf.io.read_file(path)\n",
        "  image = tf.image.decode_jpeg(image,channels=3)\n",
        "  image = tf.image.resize(image,([320,240]))\n",
        "  image = image/255\n",
        "  return np.array([image])"
      ],
      "metadata": {
        "id": "ryRgWS4foAwh"
      },
      "execution_count": 46,
      "outputs": []
    },
    {
      "cell_type": "code",
      "source": [
        "a = glob.glob('/content/drive/MyDrive/Colab Notebooks/ML/Flower reg/test/daisy/*.jpg')"
      ],
      "metadata": {
        "id": "NxLFygjouWN_"
      },
      "execution_count": 52,
      "outputs": []
    },
    {
      "cell_type": "code",
      "source": [
        "for i in range(1,10):\n",
        "  print(np.argmax(model_last.predict(read_and_pre(a[i])), axis=1))"
      ],
      "metadata": {
        "colab": {
          "base_uri": "https://localhost:8080/"
        },
        "id": "5PjxGTFxu091",
        "outputId": "34200aac-81a6-4fa0-9903-99d87d4987d5"
      },
      "execution_count": 53,
      "outputs": [
        {
          "output_type": "stream",
          "name": "stdout",
          "text": [
            "1/1 [==============================] - 0s 16ms/step\n",
            "[0]\n",
            "1/1 [==============================] - 0s 17ms/step\n",
            "[0]\n",
            "1/1 [==============================] - 0s 32ms/step\n",
            "[1]\n",
            "1/1 [==============================] - 0s 18ms/step\n",
            "[0]\n",
            "1/1 [==============================] - 0s 17ms/step\n",
            "[1]\n",
            "1/1 [==============================] - 0s 25ms/step\n",
            "[0]\n",
            "1/1 [==============================] - 0s 17ms/step\n",
            "[0]\n",
            "1/1 [==============================] - 0s 17ms/step\n",
            "[2]\n",
            "1/1 [==============================] - 0s 18ms/step\n",
            "[0]\n"
          ]
        }
      ]
    },
    {
      "cell_type": "code",
      "source": [
        "\n"
      ],
      "metadata": {
        "id": "DVnQKckmvx0p"
      },
      "execution_count": null,
      "outputs": []
    }
  ]
}