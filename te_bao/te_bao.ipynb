{
  "nbformat": 4,
  "nbformat_minor": 0,
  "metadata": {
    "colab": {
      "provenance": [],
      "mount_file_id": "1ST-9hyLmgCJkF9fWIl_DnXvhD21EwRNA",
      "authorship_tag": "ABX9TyOobXDQUqi1GwZT/5nXxQcV",
      "include_colab_link": true
    },
    "kernelspec": {
      "name": "python3",
      "display_name": "Python 3"
    },
    "language_info": {
      "name": "python"
    },
    "accelerator": "TPU",
    "gpuClass": "standard"
  },
  "cells": [
    {
      "cell_type": "markdown",
      "metadata": {
        "id": "view-in-github",
        "colab_type": "text"
      },
      "source": [
        "<a href=\"https://colab.research.google.com/github/quangthangggg/projects_ML/blob/main/te_bao/te_bao.ipynb\" target=\"_parent\"><img src=\"https://colab.research.google.com/assets/colab-badge.svg\" alt=\"Open In Colab\"/></a>"
      ]
    },
    {
      "cell_type": "code",
      "execution_count": null,
      "metadata": {
        "colab": {
          "base_uri": "https://localhost:8080/"
        },
        "id": "wTZxY_fsA6wx",
        "outputId": "e1bc697c-7a6b-48bb-d993-daba452a09ce"
      },
      "outputs": [
        {
          "output_type": "stream",
          "name": "stdout",
          "text": [
            "/content/drive/MyDrive/ML/call_images\n"
          ]
        }
      ],
      "source": [
        "%cd /content/drive/MyDrive/ML/call_images"
      ]
    },
    {
      "cell_type": "code",
      "source": [
        "import numpy as np\n",
        "import matplotlib.pyplot as plt\n",
        "import seaborn as sns\n",
        "%matplotlib inline"
      ],
      "metadata": {
        "id": "VvfPzaJ1D7fw"
      },
      "execution_count": null,
      "outputs": []
    },
    {
      "cell_type": "code",
      "source": [
        "from matplotlib.image import imread\n",
        "import os"
      ],
      "metadata": {
        "id": "31l8eaDm6Bwe"
      },
      "execution_count": null,
      "outputs": []
    },
    {
      "cell_type": "code",
      "source": [
        "TRAIN_DIR = r'/content/drive/MyDrive/ML/call_images/cell_images/train/'\n",
        "TEST_DIR = r'/content/drive/MyDrive/ML/call_images/cell_images/test/'\n",
        "sub = ['parasitized/', 'uninfected/']"
      ],
      "metadata": {
        "id": "MXiYHB1K658Y"
      },
      "execution_count": null,
      "outputs": []
    },
    {
      "cell_type": "code",
      "source": [
        "from tensorflow.keras.preprocessing.image import ImageDataGenerator\n"
      ],
      "metadata": {
        "id": "xz0FasNy8SHl"
      },
      "execution_count": null,
      "outputs": []
    },
    {
      "cell_type": "code",
      "source": [
        "image_gen=ImageDataGenerator(rotation_range=20,\n",
        "                             width_shift_range=0.1,\n",
        "                             height_shift_range=0.1,\n",
        "                             rescale=1/255,\n",
        "                             shear_range=0.1,\n",
        "                             zoom_range=0.1,\n",
        "                             fill_mode='nearest',\n",
        "                             horizontal_flip=True)"
      ],
      "metadata": {
        "id": "vVtdOiQCGAJV"
      },
      "execution_count": null,
      "outputs": []
    },
    {
      "cell_type": "code",
      "source": [
        "train_image_gen=image_gen.flow_from_directory(TRAIN_DIR,\n",
        "                              class_mode='binary',\n",
        "                              batch_size=64,\n",
        "                              target_size=(130,130))"
      ],
      "metadata": {
        "colab": {
          "base_uri": "https://localhost:8080/"
        },
        "id": "sdhRHFlZGriY",
        "outputId": "8879424f-afb7-49b9-a7eb-600afa773f62"
      },
      "execution_count": null,
      "outputs": [
        {
          "output_type": "stream",
          "name": "stdout",
          "text": [
            "Found 24958 images belonging to 2 classes.\n"
          ]
        }
      ]
    },
    {
      "cell_type": "code",
      "source": [
        "test_image_gen = image_gen.flow_from_directory(\n",
        "    TEST_DIR,\n",
        "    target_size=(130,130),\n",
        "    class_mode='binary',\n",
        "    batch_size=64\n",
        ")"
      ],
      "metadata": {
        "colab": {
          "base_uri": "https://localhost:8080/"
        },
        "id": "MkSs7PqVHbQv",
        "outputId": "a5f91b3b-635f-4878-aab1-f5a60e981d11"
      },
      "execution_count": null,
      "outputs": [
        {
          "output_type": "stream",
          "name": "stdout",
          "text": [
            "Found 2600 images belonging to 2 classes.\n"
          ]
        }
      ]
    },
    {
      "cell_type": "markdown",
      "source": [
        "# EarlyStopping"
      ],
      "metadata": {
        "id": "l651vKMRIm_z"
      }
    },
    {
      "cell_type": "code",
      "source": [
        "from tensorflow.keras.callbacks import EarlyStopping\n",
        "earlystop = EarlyStopping(monitor='val_loss',patience=2)"
      ],
      "metadata": {
        "id": "QJitKcNLHmGA"
      },
      "execution_count": null,
      "outputs": []
    },
    {
      "cell_type": "code",
      "source": [],
      "metadata": {
        "id": "Ywt0wyeYI37P"
      },
      "execution_count": null,
      "outputs": []
    },
    {
      "cell_type": "markdown",
      "source": [
        "# Model"
      ],
      "metadata": {
        "id": "lxbK2bU3I4lF"
      }
    },
    {
      "cell_type": "code",
      "source": [
        "from tensorflow.keras.models import Sequential\n",
        "from tensorflow.keras.layers import Conv2D, MaxPooling2D, Dropout, Activation, Flatten, Dense"
      ],
      "metadata": {
        "id": "HWaqVDCGI6MP"
      },
      "execution_count": null,
      "outputs": []
    },
    {
      "cell_type": "code",
      "source": [
        "model = Sequential()\n",
        "\n",
        "model.add(Conv2D(32,(3,3),padding='same',input_shape=(130,130,3),activation='relu'))\n",
        "model.add(MaxPooling2D((2,2)))\n",
        "\n",
        "model.add(Conv2D(64,(3,3),padding='same',input_shape=(130,130,3),activation='relu'))\n",
        "model.add(MaxPooling2D((2,2)))\n",
        "\n",
        "model.add(Conv2D(64,(3,3),padding='same',input_shape=(130,130,3),activation='relu'))\n",
        "model.add(MaxPooling2D((2,2)))\n",
        "\n",
        "model.add(Flatten())\n",
        "\n",
        "model.add(Dense(128,activation='relu'))\n",
        "model.add(Dropout(0.4))\n",
        "\n",
        "model.add(Dense(1,activation='sigmoid'))\n",
        "\n",
        "model.compile(loss='binary_crossentropy',\n",
        "              optimizer='adam',\n",
        "              metrics=['accuracy'])"
      ],
      "metadata": {
        "id": "UZjtmlVCJRtf"
      },
      "execution_count": null,
      "outputs": []
    },
    {
      "cell_type": "code",
      "source": [
        "import warnings\n",
        "warnings.filterwarnings('ignore')"
      ],
      "metadata": {
        "id": "wrGejh_oKcMk"
      },
      "execution_count": null,
      "outputs": []
    },
    {
      "cell_type": "markdown",
      "source": [
        "# Train Model"
      ],
      "metadata": {
        "id": "in3vLDoBKnjP"
      }
    },
    {
      "cell_type": "code",
      "source": [
        "model.fit_generator(train_image_gen,epochs=20,callbacks=[earlystop],validation_data=test_image_gen)"
      ],
      "metadata": {
        "colab": {
          "base_uri": "https://localhost:8080/"
        },
        "id": "M0DwvfwVKpHf",
        "outputId": "1b0e6fad-b37b-4f9e-b4c5-0edc2bf4531c"
      },
      "execution_count": null,
      "outputs": [
        {
          "output_type": "stream",
          "name": "stdout",
          "text": [
            "Epoch 1/20\n",
            "390/390 [==============================] - 3762s 10s/step - loss: 0.5962 - accuracy: 0.6378 - val_loss: 0.2294 - val_accuracy: 0.9138\n",
            "Epoch 2/20\n",
            "390/390 [==============================] - 902s 2s/step - loss: 0.2143 - accuracy: 0.9232 - val_loss: 0.1782 - val_accuracy: 0.9312\n",
            "Epoch 3/20\n",
            "390/390 [==============================] - 898s 2s/step - loss: 0.1850 - accuracy: 0.9404 - val_loss: 0.1860 - val_accuracy: 0.9408\n",
            "Epoch 4/20\n",
            "390/390 [==============================] - 901s 2s/step - loss: 0.1595 - accuracy: 0.9503 - val_loss: 0.1564 - val_accuracy: 0.9496\n",
            "Epoch 5/20\n",
            "390/390 [==============================] - 906s 2s/step - loss: 0.1520 - accuracy: 0.9526 - val_loss: 0.1613 - val_accuracy: 0.9458\n",
            "Epoch 6/20\n",
            "390/390 [==============================] - 893s 2s/step - loss: 0.1442 - accuracy: 0.9540 - val_loss: 0.1428 - val_accuracy: 0.9492\n",
            "Epoch 7/20\n",
            "390/390 [==============================] - 893s 2s/step - loss: 0.1407 - accuracy: 0.9549 - val_loss: 0.1425 - val_accuracy: 0.9519\n",
            "Epoch 8/20\n",
            "390/390 [==============================] - 894s 2s/step - loss: 0.1381 - accuracy: 0.9551 - val_loss: 0.1395 - val_accuracy: 0.9523\n",
            "Epoch 9/20\n",
            "390/390 [==============================] - 893s 2s/step - loss: 0.1354 - accuracy: 0.9558 - val_loss: 0.1389 - val_accuracy: 0.9546\n",
            "Epoch 10/20\n",
            "390/390 [==============================] - 894s 2s/step - loss: 0.1328 - accuracy: 0.9570 - val_loss: 0.1380 - val_accuracy: 0.9508\n",
            "Epoch 11/20\n",
            "390/390 [==============================] - 890s 2s/step - loss: 0.1353 - accuracy: 0.9557 - val_loss: 0.1355 - val_accuracy: 0.9527\n",
            "Epoch 12/20\n",
            "390/390 [==============================] - 894s 2s/step - loss: 0.1311 - accuracy: 0.9578 - val_loss: 0.1313 - val_accuracy: 0.9542\n",
            "Epoch 13/20\n",
            "390/390 [==============================] - 893s 2s/step - loss: 0.1308 - accuracy: 0.9576 - val_loss: 0.1417 - val_accuracy: 0.9508\n",
            "Epoch 14/20\n",
            "390/390 [==============================] - 889s 2s/step - loss: 0.1282 - accuracy: 0.9582 - val_loss: 0.1428 - val_accuracy: 0.9565\n"
          ]
        },
        {
          "output_type": "execute_result",
          "data": {
            "text/plain": [
              "<keras.callbacks.History at 0x7f69477e6cd0>"
            ]
          },
          "metadata": {},
          "execution_count": 17
        }
      ]
    },
    {
      "cell_type": "code",
      "source": [
        "import sklearn.keras.models import load_model\n",
        "model.save('mymodel.h5')"
      ],
      "metadata": {
        "colab": {
          "base_uri": "https://localhost:8080/",
          "height": 130
        },
        "id": "Ryt3ENmiLIEn",
        "outputId": "67e2d446-aecc-49b5-ccd8-aa8fddd647bd"
      },
      "execution_count": null,
      "outputs": [
        {
          "output_type": "error",
          "ename": "SyntaxError",
          "evalue": "ignored",
          "traceback": [
            "\u001b[0;36m  File \u001b[0;32m\"<ipython-input-18-31b258802196>\"\u001b[0;36m, line \u001b[0;32m1\u001b[0m\n\u001b[0;31m    import sklearn.keras.models import load_model\u001b[0m\n\u001b[0m                                     ^\u001b[0m\n\u001b[0;31mSyntaxError\u001b[0m\u001b[0;31m:\u001b[0m invalid syntax\n"
          ]
        }
      ]
    },
    {
      "cell_type": "code",
      "source": [],
      "metadata": {
        "id": "fktNVjh2U01i"
      },
      "execution_count": null,
      "outputs": []
    }
  ]
}